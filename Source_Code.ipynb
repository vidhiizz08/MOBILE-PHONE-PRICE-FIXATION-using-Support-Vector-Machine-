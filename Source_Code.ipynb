{
  "nbformat": 4,
  "nbformat_minor": 0,
  "metadata": {
    "colab": {
      "provenance": []
    },
    "kernelspec": {
      "name": "python3",
      "display_name": "Python 3"
    },
    "language_info": {
      "name": "python"
    }
  },
  "cells": [
    {
      "cell_type": "code",
      "source": [
        "from google.colab import files\n",
        "uploaded = files.upload()"
      ],
      "metadata": {
        "colab": {
          "base_uri": "https://localhost:8080/",
          "height": 108
        },
        "id": "gPqd2Voe9fUL",
        "outputId": "7b7d0874-4dc8-43e9-80d5-8a3ffc52d0b4"
      },
      "execution_count": null,
      "outputs": [
        {
          "output_type": "display_data",
          "data": {
            "text/plain": [
              "<IPython.core.display.HTML object>"
            ],
            "text/html": [
              "\n",
              "     <input type=\"file\" id=\"files-4fa3c711-7a4e-4c03-8d7d-4fd764d85de5\" name=\"files[]\" multiple disabled\n",
              "        style=\"border:none\" />\n",
              "     <output id=\"result-4fa3c711-7a4e-4c03-8d7d-4fd764d85de5\">\n",
              "      Upload widget is only available when the cell has been executed in the\n",
              "      current browser session. Please rerun this cell to enable.\n",
              "      </output>\n",
              "      <script>// Copyright 2017 Google LLC\n",
              "//\n",
              "// Licensed under the Apache License, Version 2.0 (the \"License\");\n",
              "// you may not use this file except in compliance with the License.\n",
              "// You may obtain a copy of the License at\n",
              "//\n",
              "//      http://www.apache.org/licenses/LICENSE-2.0\n",
              "//\n",
              "// Unless required by applicable law or agreed to in writing, software\n",
              "// distributed under the License is distributed on an \"AS IS\" BASIS,\n",
              "// WITHOUT WARRANTIES OR CONDITIONS OF ANY KIND, either express or implied.\n",
              "// See the License for the specific language governing permissions and\n",
              "// limitations under the License.\n",
              "\n",
              "/**\n",
              " * @fileoverview Helpers for google.colab Python module.\n",
              " */\n",
              "(function(scope) {\n",
              "function span(text, styleAttributes = {}) {\n",
              "  const element = document.createElement('span');\n",
              "  element.textContent = text;\n",
              "  for (const key of Object.keys(styleAttributes)) {\n",
              "    element.style[key] = styleAttributes[key];\n",
              "  }\n",
              "  return element;\n",
              "}\n",
              "\n",
              "// Max number of bytes which will be uploaded at a time.\n",
              "const MAX_PAYLOAD_SIZE = 100 * 1024;\n",
              "\n",
              "function _uploadFiles(inputId, outputId) {\n",
              "  const steps = uploadFilesStep(inputId, outputId);\n",
              "  const outputElement = document.getElementById(outputId);\n",
              "  // Cache steps on the outputElement to make it available for the next call\n",
              "  // to uploadFilesContinue from Python.\n",
              "  outputElement.steps = steps;\n",
              "\n",
              "  return _uploadFilesContinue(outputId);\n",
              "}\n",
              "\n",
              "// This is roughly an async generator (not supported in the browser yet),\n",
              "// where there are multiple asynchronous steps and the Python side is going\n",
              "// to poll for completion of each step.\n",
              "// This uses a Promise to block the python side on completion of each step,\n",
              "// then passes the result of the previous step as the input to the next step.\n",
              "function _uploadFilesContinue(outputId) {\n",
              "  const outputElement = document.getElementById(outputId);\n",
              "  const steps = outputElement.steps;\n",
              "\n",
              "  const next = steps.next(outputElement.lastPromiseValue);\n",
              "  return Promise.resolve(next.value.promise).then((value) => {\n",
              "    // Cache the last promise value to make it available to the next\n",
              "    // step of the generator.\n",
              "    outputElement.lastPromiseValue = value;\n",
              "    return next.value.response;\n",
              "  });\n",
              "}\n",
              "\n",
              "/**\n",
              " * Generator function which is called between each async step of the upload\n",
              " * process.\n",
              " * @param {string} inputId Element ID of the input file picker element.\n",
              " * @param {string} outputId Element ID of the output display.\n",
              " * @return {!Iterable<!Object>} Iterable of next steps.\n",
              " */\n",
              "function* uploadFilesStep(inputId, outputId) {\n",
              "  const inputElement = document.getElementById(inputId);\n",
              "  inputElement.disabled = false;\n",
              "\n",
              "  const outputElement = document.getElementById(outputId);\n",
              "  outputElement.innerHTML = '';\n",
              "\n",
              "  const pickedPromise = new Promise((resolve) => {\n",
              "    inputElement.addEventListener('change', (e) => {\n",
              "      resolve(e.target.files);\n",
              "    });\n",
              "  });\n",
              "\n",
              "  const cancel = document.createElement('button');\n",
              "  inputElement.parentElement.appendChild(cancel);\n",
              "  cancel.textContent = 'Cancel upload';\n",
              "  const cancelPromise = new Promise((resolve) => {\n",
              "    cancel.onclick = () => {\n",
              "      resolve(null);\n",
              "    };\n",
              "  });\n",
              "\n",
              "  // Wait for the user to pick the files.\n",
              "  const files = yield {\n",
              "    promise: Promise.race([pickedPromise, cancelPromise]),\n",
              "    response: {\n",
              "      action: 'starting',\n",
              "    }\n",
              "  };\n",
              "\n",
              "  cancel.remove();\n",
              "\n",
              "  // Disable the input element since further picks are not allowed.\n",
              "  inputElement.disabled = true;\n",
              "\n",
              "  if (!files) {\n",
              "    return {\n",
              "      response: {\n",
              "        action: 'complete',\n",
              "      }\n",
              "    };\n",
              "  }\n",
              "\n",
              "  for (const file of files) {\n",
              "    const li = document.createElement('li');\n",
              "    li.append(span(file.name, {fontWeight: 'bold'}));\n",
              "    li.append(span(\n",
              "        `(${file.type || 'n/a'}) - ${file.size} bytes, ` +\n",
              "        `last modified: ${\n",
              "            file.lastModifiedDate ? file.lastModifiedDate.toLocaleDateString() :\n",
              "                                    'n/a'} - `));\n",
              "    const percent = span('0% done');\n",
              "    li.appendChild(percent);\n",
              "\n",
              "    outputElement.appendChild(li);\n",
              "\n",
              "    const fileDataPromise = new Promise((resolve) => {\n",
              "      const reader = new FileReader();\n",
              "      reader.onload = (e) => {\n",
              "        resolve(e.target.result);\n",
              "      };\n",
              "      reader.readAsArrayBuffer(file);\n",
              "    });\n",
              "    // Wait for the data to be ready.\n",
              "    let fileData = yield {\n",
              "      promise: fileDataPromise,\n",
              "      response: {\n",
              "        action: 'continue',\n",
              "      }\n",
              "    };\n",
              "\n",
              "    // Use a chunked sending to avoid message size limits. See b/62115660.\n",
              "    let position = 0;\n",
              "    do {\n",
              "      const length = Math.min(fileData.byteLength - position, MAX_PAYLOAD_SIZE);\n",
              "      const chunk = new Uint8Array(fileData, position, length);\n",
              "      position += length;\n",
              "\n",
              "      const base64 = btoa(String.fromCharCode.apply(null, chunk));\n",
              "      yield {\n",
              "        response: {\n",
              "          action: 'append',\n",
              "          file: file.name,\n",
              "          data: base64,\n",
              "        },\n",
              "      };\n",
              "\n",
              "      let percentDone = fileData.byteLength === 0 ?\n",
              "          100 :\n",
              "          Math.round((position / fileData.byteLength) * 100);\n",
              "      percent.textContent = `${percentDone}% done`;\n",
              "\n",
              "    } while (position < fileData.byteLength);\n",
              "  }\n",
              "\n",
              "  // All done.\n",
              "  yield {\n",
              "    response: {\n",
              "      action: 'complete',\n",
              "    }\n",
              "  };\n",
              "}\n",
              "\n",
              "scope.google = scope.google || {};\n",
              "scope.google.colab = scope.google.colab || {};\n",
              "scope.google.colab._files = {\n",
              "  _uploadFiles,\n",
              "  _uploadFilesContinue,\n",
              "};\n",
              "})(self);\n",
              "</script> "
            ]
          },
          "metadata": {}
        },
        {
          "output_type": "stream",
          "name": "stdout",
          "text": [
            "Saving train.csv to train.csv\n",
            "Saving test.csv to test.csv\n"
          ]
        }
      ]
    },
    {
      "cell_type": "code",
      "source": [
        "train_data=pd.read_csv('train.csv')\n",
        "train_data.head()"
      ],
      "metadata": {
        "colab": {
          "base_uri": "https://localhost:8080/",
          "height": 248
        },
        "id": "nDEbnx2V9okH",
        "outputId": "39f68050-5d4b-4a92-ac1b-a4e514660045"
      },
      "execution_count": null,
      "outputs": [
        {
          "output_type": "execute_result",
          "data": {
            "text/plain": [
              "   battery_power  blue  clock_speed  dual_sim  fc  four_g  int_memory  m_dep  \\\n",
              "0            842     0          2.2         0   1       0           7    0.6   \n",
              "1           1021     1          0.5         1   0       1          53    0.7   \n",
              "2            563     1          0.5         1   2       1          41    0.9   \n",
              "3            615     1          2.5         0   0       0          10    0.8   \n",
              "4           1821     1          1.2         0  13       1          44    0.6   \n",
              "\n",
              "   mobile_wt  n_cores  ...  px_height  px_width   ram  sc_h  sc_w  talk_time  \\\n",
              "0        188        2  ...         20       756  2549     9     7         19   \n",
              "1        136        3  ...        905      1988  2631    17     3          7   \n",
              "2        145        5  ...       1263      1716  2603    11     2          9   \n",
              "3        131        6  ...       1216      1786  2769    16     8         11   \n",
              "4        141        2  ...       1208      1212  1411     8     2         15   \n",
              "\n",
              "   three_g  touch_screen  wifi  price_range  \n",
              "0        0             0     1            1  \n",
              "1        1             1     0            2  \n",
              "2        1             1     0            2  \n",
              "3        1             0     0            2  \n",
              "4        1             1     0            1  \n",
              "\n",
              "[5 rows x 21 columns]"
            ],
            "text/html": [
              "\n",
              "  <div id=\"df-b135fe64-7031-46c9-af85-4ff6751e9708\">\n",
              "    <div class=\"colab-df-container\">\n",
              "      <div>\n",
              "<style scoped>\n",
              "    .dataframe tbody tr th:only-of-type {\n",
              "        vertical-align: middle;\n",
              "    }\n",
              "\n",
              "    .dataframe tbody tr th {\n",
              "        vertical-align: top;\n",
              "    }\n",
              "\n",
              "    .dataframe thead th {\n",
              "        text-align: right;\n",
              "    }\n",
              "</style>\n",
              "<table border=\"1\" class=\"dataframe\">\n",
              "  <thead>\n",
              "    <tr style=\"text-align: right;\">\n",
              "      <th></th>\n",
              "      <th>battery_power</th>\n",
              "      <th>blue</th>\n",
              "      <th>clock_speed</th>\n",
              "      <th>dual_sim</th>\n",
              "      <th>fc</th>\n",
              "      <th>four_g</th>\n",
              "      <th>int_memory</th>\n",
              "      <th>m_dep</th>\n",
              "      <th>mobile_wt</th>\n",
              "      <th>n_cores</th>\n",
              "      <th>...</th>\n",
              "      <th>px_height</th>\n",
              "      <th>px_width</th>\n",
              "      <th>ram</th>\n",
              "      <th>sc_h</th>\n",
              "      <th>sc_w</th>\n",
              "      <th>talk_time</th>\n",
              "      <th>three_g</th>\n",
              "      <th>touch_screen</th>\n",
              "      <th>wifi</th>\n",
              "      <th>price_range</th>\n",
              "    </tr>\n",
              "  </thead>\n",
              "  <tbody>\n",
              "    <tr>\n",
              "      <th>0</th>\n",
              "      <td>842</td>\n",
              "      <td>0</td>\n",
              "      <td>2.2</td>\n",
              "      <td>0</td>\n",
              "      <td>1</td>\n",
              "      <td>0</td>\n",
              "      <td>7</td>\n",
              "      <td>0.6</td>\n",
              "      <td>188</td>\n",
              "      <td>2</td>\n",
              "      <td>...</td>\n",
              "      <td>20</td>\n",
              "      <td>756</td>\n",
              "      <td>2549</td>\n",
              "      <td>9</td>\n",
              "      <td>7</td>\n",
              "      <td>19</td>\n",
              "      <td>0</td>\n",
              "      <td>0</td>\n",
              "      <td>1</td>\n",
              "      <td>1</td>\n",
              "    </tr>\n",
              "    <tr>\n",
              "      <th>1</th>\n",
              "      <td>1021</td>\n",
              "      <td>1</td>\n",
              "      <td>0.5</td>\n",
              "      <td>1</td>\n",
              "      <td>0</td>\n",
              "      <td>1</td>\n",
              "      <td>53</td>\n",
              "      <td>0.7</td>\n",
              "      <td>136</td>\n",
              "      <td>3</td>\n",
              "      <td>...</td>\n",
              "      <td>905</td>\n",
              "      <td>1988</td>\n",
              "      <td>2631</td>\n",
              "      <td>17</td>\n",
              "      <td>3</td>\n",
              "      <td>7</td>\n",
              "      <td>1</td>\n",
              "      <td>1</td>\n",
              "      <td>0</td>\n",
              "      <td>2</td>\n",
              "    </tr>\n",
              "    <tr>\n",
              "      <th>2</th>\n",
              "      <td>563</td>\n",
              "      <td>1</td>\n",
              "      <td>0.5</td>\n",
              "      <td>1</td>\n",
              "      <td>2</td>\n",
              "      <td>1</td>\n",
              "      <td>41</td>\n",
              "      <td>0.9</td>\n",
              "      <td>145</td>\n",
              "      <td>5</td>\n",
              "      <td>...</td>\n",
              "      <td>1263</td>\n",
              "      <td>1716</td>\n",
              "      <td>2603</td>\n",
              "      <td>11</td>\n",
              "      <td>2</td>\n",
              "      <td>9</td>\n",
              "      <td>1</td>\n",
              "      <td>1</td>\n",
              "      <td>0</td>\n",
              "      <td>2</td>\n",
              "    </tr>\n",
              "    <tr>\n",
              "      <th>3</th>\n",
              "      <td>615</td>\n",
              "      <td>1</td>\n",
              "      <td>2.5</td>\n",
              "      <td>0</td>\n",
              "      <td>0</td>\n",
              "      <td>0</td>\n",
              "      <td>10</td>\n",
              "      <td>0.8</td>\n",
              "      <td>131</td>\n",
              "      <td>6</td>\n",
              "      <td>...</td>\n",
              "      <td>1216</td>\n",
              "      <td>1786</td>\n",
              "      <td>2769</td>\n",
              "      <td>16</td>\n",
              "      <td>8</td>\n",
              "      <td>11</td>\n",
              "      <td>1</td>\n",
              "      <td>0</td>\n",
              "      <td>0</td>\n",
              "      <td>2</td>\n",
              "    </tr>\n",
              "    <tr>\n",
              "      <th>4</th>\n",
              "      <td>1821</td>\n",
              "      <td>1</td>\n",
              "      <td>1.2</td>\n",
              "      <td>0</td>\n",
              "      <td>13</td>\n",
              "      <td>1</td>\n",
              "      <td>44</td>\n",
              "      <td>0.6</td>\n",
              "      <td>141</td>\n",
              "      <td>2</td>\n",
              "      <td>...</td>\n",
              "      <td>1208</td>\n",
              "      <td>1212</td>\n",
              "      <td>1411</td>\n",
              "      <td>8</td>\n",
              "      <td>2</td>\n",
              "      <td>15</td>\n",
              "      <td>1</td>\n",
              "      <td>1</td>\n",
              "      <td>0</td>\n",
              "      <td>1</td>\n",
              "    </tr>\n",
              "  </tbody>\n",
              "</table>\n",
              "<p>5 rows × 21 columns</p>\n",
              "</div>\n",
              "      <button class=\"colab-df-convert\" onclick=\"convertToInteractive('df-b135fe64-7031-46c9-af85-4ff6751e9708')\"\n",
              "              title=\"Convert this dataframe to an interactive table.\"\n",
              "              style=\"display:none;\">\n",
              "        \n",
              "  <svg xmlns=\"http://www.w3.org/2000/svg\" height=\"24px\"viewBox=\"0 0 24 24\"\n",
              "       width=\"24px\">\n",
              "    <path d=\"M0 0h24v24H0V0z\" fill=\"none\"/>\n",
              "    <path d=\"M18.56 5.44l.94 2.06.94-2.06 2.06-.94-2.06-.94-.94-2.06-.94 2.06-2.06.94zm-11 1L8.5 8.5l.94-2.06 2.06-.94-2.06-.94L8.5 2.5l-.94 2.06-2.06.94zm10 10l.94 2.06.94-2.06 2.06-.94-2.06-.94-.94-2.06-.94 2.06-2.06.94z\"/><path d=\"M17.41 7.96l-1.37-1.37c-.4-.4-.92-.59-1.43-.59-.52 0-1.04.2-1.43.59L10.3 9.45l-7.72 7.72c-.78.78-.78 2.05 0 2.83L4 21.41c.39.39.9.59 1.41.59.51 0 1.02-.2 1.41-.59l7.78-7.78 2.81-2.81c.8-.78.8-2.07 0-2.86zM5.41 20L4 18.59l7.72-7.72 1.47 1.35L5.41 20z\"/>\n",
              "  </svg>\n",
              "      </button>\n",
              "      \n",
              "  <style>\n",
              "    .colab-df-container {\n",
              "      display:flex;\n",
              "      flex-wrap:wrap;\n",
              "      gap: 12px;\n",
              "    }\n",
              "\n",
              "    .colab-df-convert {\n",
              "      background-color: #E8F0FE;\n",
              "      border: none;\n",
              "      border-radius: 50%;\n",
              "      cursor: pointer;\n",
              "      display: none;\n",
              "      fill: #1967D2;\n",
              "      height: 32px;\n",
              "      padding: 0 0 0 0;\n",
              "      width: 32px;\n",
              "    }\n",
              "\n",
              "    .colab-df-convert:hover {\n",
              "      background-color: #E2EBFA;\n",
              "      box-shadow: 0px 1px 2px rgba(60, 64, 67, 0.3), 0px 1px 3px 1px rgba(60, 64, 67, 0.15);\n",
              "      fill: #174EA6;\n",
              "    }\n",
              "\n",
              "    [theme=dark] .colab-df-convert {\n",
              "      background-color: #3B4455;\n",
              "      fill: #D2E3FC;\n",
              "    }\n",
              "\n",
              "    [theme=dark] .colab-df-convert:hover {\n",
              "      background-color: #434B5C;\n",
              "      box-shadow: 0px 1px 3px 1px rgba(0, 0, 0, 0.15);\n",
              "      filter: drop-shadow(0px 1px 2px rgba(0, 0, 0, 0.3));\n",
              "      fill: #FFFFFF;\n",
              "    }\n",
              "  </style>\n",
              "\n",
              "      <script>\n",
              "        const buttonEl =\n",
              "          document.querySelector('#df-b135fe64-7031-46c9-af85-4ff6751e9708 button.colab-df-convert');\n",
              "        buttonEl.style.display =\n",
              "          google.colab.kernel.accessAllowed ? 'block' : 'none';\n",
              "\n",
              "        async function convertToInteractive(key) {\n",
              "          const element = document.querySelector('#df-b135fe64-7031-46c9-af85-4ff6751e9708');\n",
              "          const dataTable =\n",
              "            await google.colab.kernel.invokeFunction('convertToInteractive',\n",
              "                                                     [key], {});\n",
              "          if (!dataTable) return;\n",
              "\n",
              "          const docLinkHtml = 'Like what you see? Visit the ' +\n",
              "            '<a target=\"_blank\" href=https://colab.research.google.com/notebooks/data_table.ipynb>data table notebook</a>'\n",
              "            + ' to learn more about interactive tables.';\n",
              "          element.innerHTML = '';\n",
              "          dataTable['output_type'] = 'display_data';\n",
              "          await google.colab.output.renderOutput(dataTable, element);\n",
              "          const docLink = document.createElement('div');\n",
              "          docLink.innerHTML = docLinkHtml;\n",
              "          element.appendChild(docLink);\n",
              "        }\n",
              "      </script>\n",
              "    </div>\n",
              "  </div>\n",
              "  "
            ]
          },
          "metadata": {},
          "execution_count": 3
        },
        {
          "output_type": "stream",
          "name": "stdout",
          "text": [
            "Warning: Total number of columns (21) exceeds max_columns (20) limiting to first (20) columns.\n"
          ]
        }
      ]
    },
    {
      "cell_type": "code",
      "execution_count": null,
      "metadata": {
        "id": "2-EqQHj49UCr"
      },
      "outputs": [],
      "source": [
        "import numpy as np\n",
        "import pandas as pd\n",
        "import seaborn as sns\n",
        "import matplotlib.pylab as plt\n",
        "%matplotlib inline"
      ]
    },
    {
      "cell_type": "code",
      "source": [
        "train_data.info()"
      ],
      "metadata": {
        "colab": {
          "base_uri": "https://localhost:8080/"
        },
        "id": "rkQt4-jp94DZ",
        "outputId": "602e00ec-58c6-4547-de57-2e1a1971fbe3"
      },
      "execution_count": null,
      "outputs": [
        {
          "output_type": "stream",
          "name": "stdout",
          "text": [
            "<class 'pandas.core.frame.DataFrame'>\n",
            "RangeIndex: 2000 entries, 0 to 1999\n",
            "Data columns (total 21 columns):\n",
            " #   Column         Non-Null Count  Dtype  \n",
            "---  ------         --------------  -----  \n",
            " 0   battery_power  2000 non-null   int64  \n",
            " 1   blue           2000 non-null   int64  \n",
            " 2   clock_speed    2000 non-null   float64\n",
            " 3   dual_sim       2000 non-null   int64  \n",
            " 4   fc             2000 non-null   int64  \n",
            " 5   four_g         2000 non-null   int64  \n",
            " 6   int_memory     2000 non-null   int64  \n",
            " 7   m_dep          2000 non-null   float64\n",
            " 8   mobile_wt      2000 non-null   int64  \n",
            " 9   n_cores        2000 non-null   int64  \n",
            " 10  pc             2000 non-null   int64  \n",
            " 11  px_height      2000 non-null   int64  \n",
            " 12  px_width       2000 non-null   int64  \n",
            " 13  ram            2000 non-null   int64  \n",
            " 14  sc_h           2000 non-null   int64  \n",
            " 15  sc_w           2000 non-null   int64  \n",
            " 16  talk_time      2000 non-null   int64  \n",
            " 17  three_g        2000 non-null   int64  \n",
            " 18  touch_screen   2000 non-null   int64  \n",
            " 19  wifi           2000 non-null   int64  \n",
            " 20  price_range    2000 non-null   int64  \n",
            "dtypes: float64(2), int64(19)\n",
            "memory usage: 328.2 KB\n"
          ]
        }
      ]
    },
    {
      "cell_type": "code",
      "source": [
        "train_data_f = train_data[train_data['sc_w'] != 0]\n",
        "train_data_f.shape"
      ],
      "metadata": {
        "colab": {
          "base_uri": "https://localhost:8080/"
        },
        "id": "qbolMv2Y96R_",
        "outputId": "a8b060f0-8a6e-4858-bebd-1842969ddaee"
      },
      "execution_count": null,
      "outputs": [
        {
          "output_type": "execute_result",
          "data": {
            "text/plain": [
              "(1820, 21)"
            ]
          },
          "metadata": {},
          "execution_count": 5
        }
      ]
    },
    {
      "cell_type": "code",
      "source": [
        "sns.set()\n",
        "price_plot=train_data_f['price_range'].value_counts().plot(kind='bar')\n",
        "plt.xlabel('price_range')\n",
        "plt.ylabel('Count')\n",
        "plt.show()"
      ],
      "metadata": {
        "colab": {
          "base_uri": "https://localhost:8080/",
          "height": 282
        },
        "id": "ncwrl0NS-E2U",
        "outputId": "f45934ea-483f-4e46-eca9-ae5ae90569aa"
      },
      "execution_count": null,
      "outputs": [
        {
          "output_type": "display_data",
          "data": {
            "text/plain": [
              "<Figure size 432x288 with 1 Axes>"
            ],
            "image/png": "[encoded data removed]"
          },
          "metadata": {}
        }
      ]
    },
    {
      "cell_type": "markdown",
      "source": [
        "***Data Distribution***"
      ],
      "metadata": {
        "id": "lnK0dGPi-MKc"
      }
    },
    {
      "cell_type": "code",
      "source": [
        "sns.set(rc={'figure.figsize':(5,5)})\n",
        "ax=sns.displot(data=train_data_f[\"battery_power\"])\n",
        "plt.show()"
      ],
      "metadata": {
        "colab": {
          "base_uri": "https://localhost:8080/",
          "height": 365
        },
        "id": "ram1Ngk5-QJ_",
        "outputId": "dae3c7c8-b3cb-4354-a0ee-70bf8968ddb8"
      },
      "execution_count": null,
      "outputs": [
        {
          "output_type": "display_data",
          "data": {
            "text/plain": [
              "<Figure size 360x360 with 1 Axes>"
            ],
            "image/png": "[encoded data removed]"
          },
          "metadata": {}
        }
      ]
    },
    {
      "cell_type": "code",
      "source": [
        "sns.set(rc={'figure.figsize':(5,5)})\n",
        "ax=sns.displot(data=train_data_f[\"blue\"])\n",
        "plt.show()"
      ],
      "metadata": {
        "colab": {
          "base_uri": "https://localhost:8080/",
          "height": 365
        },
        "id": "EqCgTjuU-XDC",
        "outputId": "84d1b289-a54d-4697-bb83-c583a95ca8b2"
      },
      "execution_count": null,
      "outputs": [
        {
          "output_type": "display_data",
          "data": {
            "text/plain": [
              "<Figure size 360x360 with 1 Axes>"
            ],
            "image/png": "[encoded data removed]"
          },
          "metadata": {}
        }
      ]
    },
    {
      "cell_type": "code",
      "source": [
        "sns.set(rc={'figure.figsize':(5,5)})\n",
        "ax=sns.displot(data=train_data_f[\"m_dep\"])\n",
        "plt.show()"
      ],
      "metadata": {
        "colab": {
          "base_uri": "https://localhost:8080/",
          "height": 365
        },
        "id": "S-Sye3o3-cM6",
        "outputId": "277303ff-433f-487b-f36c-1074df423e30"
      },
      "execution_count": null,
      "outputs": [
        {
          "output_type": "display_data",
          "data": {
            "text/plain": [
              "<Figure size 360x360 with 1 Axes>"
            ],
            "image/png": "[encoded data removed]"
          },
          "metadata": {}
        }
      ]
    },
    {
      "cell_type": "code",
      "source": [
        "X=train_data_f.drop(['price_range'], axis=1)\n",
        "y=train_data_f['price_range']\n",
        "X.isna().any()"
      ],
      "metadata": {
        "colab": {
          "base_uri": "https://localhost:8080/"
        },
        "id": "IeeOPPcG-f-c",
        "outputId": "10b2fa2a-eba2-491d-c1c8-ae17a797b8ce"
      },
      "execution_count": null,
      "outputs": [
        {
          "output_type": "execute_result",
          "data": {
            "text/plain": [
              "battery_power    False\n",
              "blue             False\n",
              "clock_speed      False\n",
              "dual_sim         False\n",
              "fc               False\n",
              "four_g           False\n",
              "int_memory       False\n",
              "m_dep            False\n",
              "mobile_wt        False\n",
              "n_cores          False\n",
              "pc               False\n",
              "px_height        False\n",
              "px_width         False\n",
              "ram              False\n",
              "sc_h             False\n",
              "sc_w             False\n",
              "talk_time        False\n",
              "three_g          False\n",
              "touch_screen     False\n",
              "wifi             False\n",
              "dtype: bool"
            ]
          },
          "metadata": {},
          "execution_count": 10
        }
      ]
    },
    {
      "cell_type": "code",
      "source": [
        "from sklearn.model_selection import train_test_split\n",
        "X_train, X_valid, y_train, y_valid= train_test_split(X, y, test_size=0.2, random_state=7)"
      ],
      "metadata": {
        "id": "5FxO3y2o-lpr"
      },
      "execution_count": null,
      "outputs": []
    },
    {
      "cell_type": "code",
      "source": [
        "from sklearn.metrics import classification_report, confusion_matrix, accuracy_score\n",
        "def my_confusion_matrix(y_test, y_pred, plt_title):\n",
        "    cm=confusion_matrix(y_test, y_pred)\n",
        "    print(classification_report(y_test, y_pred))\n",
        "    sns.heatmap(cm, annot=True, fmt='g', cbar=False, cmap='BuPu')\n",
        "    plt.xlabel('Predicted Values')\n",
        "    plt.ylabel('Actual Values')\n",
        "    plt.title(plt_title)\n",
        "    plt.show()\n",
        "    return cm"
      ],
      "metadata": {
        "id": "ffrzlfEy-vCO"
      },
      "execution_count": null,
      "outputs": []
    },
    {
      "cell_type": "markdown",
      "source": [
        "\n",
        "\n",
        "---\n",
        "\n",
        "\n",
        "# ***Support Vector Machine - SVM***\n",
        "\n",
        "---\n",
        "\n"
      ],
      "metadata": {
        "id": "AzpjpnPnAUjw"
      }
    },
    {
      "cell_type": "markdown",
      "source": [
        "![35732support-vector-machine-algorithm (1).png](data:image/png;base64,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)"
      ],
      "metadata": {
        "id": "YbYkqwpB-14J"
      }
    },
    {
      "cell_type": "code",
      "source": [
        "from sklearn import svm\n",
        "svm_clf = svm.SVC(decision_function_shape='ovo')\n",
        "svm_clf.fit(X_train, y_train)\n",
        "y_pred_svm=svm_clf.predict(X_valid)"
      ],
      "metadata": {
        "id": "YyqTSRzj_OKF"
      },
      "execution_count": null,
      "outputs": []
    },
    {
      "cell_type": "code",
      "source": [
        "print('SVM Classifier Accuracy Score: ',accuracy_score(y_valid,y_pred_svm))\n",
        "cm_rfc=my_confusion_matrix(y_valid, y_pred_svm, 'SVM Confusion Matrix')"
      ],
      "metadata": {
        "colab": {
          "base_uri": "https://localhost:8080/",
          "height": 563
        },
        "id": "h6wKfER2_W0w",
        "outputId": "eb512ca7-27f7-44cd-be16-3da4dfbebc76"
      },
      "execution_count": null,
      "outputs": [
        {
          "output_type": "stream",
          "name": "stdout",
          "text": [
            "SVM Classifier Accuracy Score:  0.9587912087912088\n",
            "              precision    recall  f1-score   support\n",
            "\n",
            "           0       0.98      0.98      0.98        95\n",
            "           1       0.93      0.97      0.95        92\n",
            "           2       0.94      0.93      0.94        86\n",
            "           3       0.99      0.96      0.97        91\n",
            "\n",
            "    accuracy                           0.96       364\n",
            "   macro avg       0.96      0.96      0.96       364\n",
            "weighted avg       0.96      0.96      0.96       364\n",
            "\n"
          ]
        },
        {
          "output_type": "display_data",
          "data": {
            "text/plain": [
              "<Figure size 360x360 with 1 Axes>"
            ],
            "image/png": "[encoded data removed]"
          },
          "metadata": {}
        }
      ]
    }
  ]
}